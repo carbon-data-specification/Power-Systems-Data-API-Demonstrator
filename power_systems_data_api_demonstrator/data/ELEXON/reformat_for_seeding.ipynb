{
 "cells": [
  {
   "cell_type": "code",
   "execution_count": 4,
   "id": "6427074a",
   "metadata": {},
   "outputs": [],
   "source": [
    "import pandas as pd"
   ]
  },
  {
   "cell_type": "markdown",
   "id": "48ba79b7",
   "metadata": {},
   "source": [
    "# Generation"
   ]
  },
  {
   "cell_type": "code",
   "execution_count": 19,
   "id": "42eb6d52",
   "metadata": {},
   "outputs": [],
   "source": [
    "df = pd.read_csv(\"intermediate/generation_by_production_type.csv\")\n",
    "df[\"Grid Node\"] = \"UK-GB\"\n",
    "df[\"unit\"] = \"MWh\"\n",
    "df = df.rename(columns={\n",
    "    \"Biomass (MW)\": \"BIOMASS\",\n",
    "    \"Hydro Pumped Storage (MW)\":\"HYDRO_PUMPED_STORAGE\",\n",
    "    \"Hydro Run-of-river and poundage (MW)\": \"HYDRO_RUN_OF_RIVER\",\n",
    "    \"Fossil Hard coal (MW)\": \"HARD_COAL\",\n",
    "    \"Fossil Gas (MW)\": \"OTHER_GAS\",\n",
    "    \"Fossil Oil (MW)\":\"OTHER_OIL\",\n",
    "    \"Nuclear (MW)\":\"NUCLEAR\",\n",
    "    \"Other (MW)\": \"OTHER\",\n",
    "    \"Wind Offshore (MW)\": \"WIND_OFF_SHORE\",\n",
    "    \"Wind Onshore (MW)\":\"WIND_ON_SHORE\",\n",
    "    \"Solar (MW)\":\"SOLAR\",\n",
    "\n",
    "})\n",
    "df['start_datetime'] = pd.to_datetime(df['datetime']).dt.strftime(\"%Y-%m-%d %H:%M\")\n",
    "df['end_datetime'] = (pd.to_datetime(df['datetime'])+pd.Timedelta(hours=1)).dt.strftime(\"%Y-%m-%d %H:%M\")\n",
    "df.drop('datetime',axis=1,inplace=True)\n",
    "df.to_csv('generation.csv',index=False)"
   ]
  },
  {
   "cell_type": "markdown",
   "id": "a78751d8",
   "metadata": {},
   "source": [
    "# Exchanges"
   ]
  },
  {
   "cell_type": "code",
   "execution_count": 6,
   "id": "039e8443",
   "metadata": {},
   "outputs": [],
   "source": [
    "name_to_grid_node = {\n",
    "    \"IFA\": \"FR\",\n",
    "    \"IFA2\": \"FR\",\n",
    "    \"Moyle\": \"UK-NIR\",\n",
    "    \"BritNEd\": \"NL\",\n",
    "    \"EastWest\": \"IE\",\n",
    "    \"NEMO\": \"BE\",\n",
    "    \"NorthSeaLink\": \"NO\",\n",
    "}"
   ]
  },
  {
   "cell_type": "code",
   "execution_count": 7,
   "id": "7a261c97",
   "metadata": {},
   "outputs": [],
   "source": [
    "df = pd.read_csv('intermediate/interconnector_exchanges.csv')\n",
    "interconnector_names = list(name_to_grid_node.keys())\n",
    "df = df[interconnector_names + ['datetime']]\n",
    "# Pivot to datetime and rows for each interconnector\n",
    "df = df.melt(id_vars='datetime', var_name='interconnector', value_name='Value')\n",
    "\n",
    "# Map interconnector names to grid nodes and group by datetime\n",
    "df.loc[:, \"Grid Node\"] = df.interconnector.map(name_to_grid_node)\n",
    "df = df.groupby(['datetime', 'Grid Node']).sum(numeric_only=True).reset_index()\n",
    "df.loc[:, \"unit\"] = \"MW\"\n",
    "\n",
    "df = df.rename(columns={\"Grid Node\": \"Grid Node To\"})\n",
    "df.loc[:, \"Grid Node From\"] = \"UK-GB\"\n",
    "\n",
    "df['start_datetime'] = pd.to_datetime(df['datetime']).dt.strftime(\"%Y-%m-%d %H:%M\")\n",
    "df['end_datetime'] = (pd.to_datetime(df['datetime'])+pd.Timedelta(hours=1)).dt.strftime(\"%Y-%m-%d %H:%M\")\n",
    "\n",
    "df.to_csv('imports_exports.csv', index=False)"
   ]
  },
  {
   "cell_type": "markdown",
   "id": "08d8d60c",
   "metadata": {},
   "source": [
    "# Capacity"
   ]
  },
  {
   "cell_type": "code",
   "execution_count": 14,
   "id": "ac0115dc",
   "metadata": {},
   "outputs": [],
   "source": [
    "FUEL_TYPE_MAPPING = {\n",
    "    \"Biomass\": \"BIOMASS\",\n",
    "    \"Fossil Brown coal/Lignite\": \"BROWN_COAL\",\n",
    "    \"Fossil Coal-derived gas\": \"COAL_DERIVED_GAS\",\n",
    "    \"Fossil Gas\": \"OTHER_GAS\",\n",
    "    \"Fossil Hard coal\": \"HARD_COAL\",\n",
    "    \"Fossil Oil shale\": \"SHALE_OIL\",\n",
    "    \"Fossil Oil\": \"OTHER_OIL\",\n",
    "    \"Fossil Peat\": \"PEAT\",\n",
    "    \"Geothermal\": \"GEOTHERMAL\",\n",
    "    \"Hydro Pumped Storage\": \"HYDRO_PUMPED_STORAGE\",\n",
    "    \"Hydro Pumped Storage  - Actual Consumption [MW]\": \"HYDRO_PUMPED_STORAGE_CONSUMPTION\",\n",
    "    \"Hydro Run-of-river and poundage\": \"HYDRO_RUN_OF_RIVER\",\n",
    "    \"Hydro Water Reservoir\": \"HYDRO_RESERVOIR\",\n",
    "    \"Marine\": \"HYDRO\",\n",
    "    \"Nuclear\":\"NUCLEAR\",\n",
    "    \"Other\": \"OTHER\",\n",
    "    \"Other renewable\": \"OTHER_RENEWABLE\",\n",
    "    \"Solar\": \"SOLAR\",\n",
    "    \"Waste\": \"WASTE\",\n",
    "    \"Wind Offshore\": \"WIND_OFF_SHORE\",\n",
    "    \"Wind Onshore\": \"WIND_ON_SHORE\"\n",
    "}"
   ]
  },
  {
   "cell_type": "code",
   "execution_count": 15,
   "id": "04b470da",
   "metadata": {},
   "outputs": [],
   "source": [
    "df = pd.read_csv('intermediate/installed_generation_capacity.csv')\n",
    "df[\"Fuel Type\"] = df[\"Fuel Type\"].map(FUEL_TYPE_MAPPING)\n",
    "df = df.rename(columns={\"Capacity\": \"Value\"})\n",
    "df.loc[:, \"Grid Node\"] = \"UK-GB\"\n",
    "df.loc[:, \"unit\"] = \"MW\"\n",
    "df['start_datetime'] = pd.to_datetime(df['datetime']).dt.strftime(\"%Y-%m-%d %H:%M\")\n",
    "df['end_datetime'] = (pd.to_datetime(df['datetime'])+pd.Timedelta(hours=1)).dt.strftime(\"%Y-%m-%d %H:%M\")\n",
    "df.to_csv('installed_capacity.csv', index=False)"
   ]
  }
 ],
 "metadata": {
  "kernelspec": {
   "display_name": "Python 3 (ipykernel)",
   "language": "python",
   "name": "python3"
  },
  "language_info": {
   "codemirror_mode": {
    "name": "ipython",
    "version": 3
   },
   "file_extension": ".py",
   "mimetype": "text/x-python",
   "name": "python",
   "nbconvert_exporter": "python",
   "pygments_lexer": "ipython3",
   "version": "3.9.13"
  }
 },
 "nbformat": 4,
 "nbformat_minor": 5
}
