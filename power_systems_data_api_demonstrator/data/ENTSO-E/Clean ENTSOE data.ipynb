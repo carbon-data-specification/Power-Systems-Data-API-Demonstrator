{
 "cells": [
  {
   "cell_type": "code",
   "execution_count": 2,
   "metadata": {},
   "outputs": [],
   "source": [
    "%load_ext autoreload\n",
    "%autoreload 2"
   ]
  },
  {
   "cell_type": "code",
   "execution_count": 2,
   "metadata": {},
   "outputs": [],
   "source": [
    "import os\n",
    "\n",
    "import arrow\n",
    "import pandas as pd"
   ]
  },
  {
   "cell_type": "markdown",
   "metadata": {},
   "source": [
    "Everything is for Spain (ES)"
   ]
  },
  {
   "cell_type": "code",
   "execution_count": 3,
   "metadata": {},
   "outputs": [],
   "source": [
    "# Installed Capacity\n",
    "capacity_df = pd.read_csv(\"raw/Installed Capacity per Production Type_202201010000-202301010000.csv\")\n",
    "\n",
    "capacity_df.loc[:, \"Grid Node\"] = \"ES\"\n",
    "capacity_df.loc[:, \"datetime\"] = \"2022-01-01 00:00:00+00:00\"\n",
    "capacity_df = capacity_df.rename(columns={\"Production Type\": \"Fuel Type\", \"2022 [MW]\": \"Value\"})\n",
    "\n",
    "map_fuel_type = {\n",
    "    \"Biomass\": \"BIOMASS\",\n",
    "    \"Fossil Brown coal/Lignite\": \"BROWN_COAL\",\n",
    "    \"Fossil Coal-derived gas\": \"COAL_DERIVED_GAS\",\n",
    "    \"Fossil Gas\": \"OTHER_GAS\",\n",
    "    \"Fossil Hard coal\":\"HARD_COAL\",\n",
    "    \"Fossil Oil shale\":\"SHALE_OIL\",\n",
    "    \"Fossil Oil\":\"OTHER_OIL\",\n",
    "    \"Fossil Peat\":\"PEAT\",\n",
    "    \"Geothermal\":\"GEOTHERMAL\",\n",
    "    \"Hydro Pumped Storage\":\"HYDRO_PUMPED_STORAGE\",\n",
    "    \"Hydro Pumped Storage  - Actual Consumption [MW]\":\"HYDRO_PUMPED_STORAGE_CONSUMPTION\",\n",
    "    \"Hydro Run-of-river and poundage\": \"HYDRO_RUN_OF_RIVER\",\n",
    "    \"Hydro Water Reservoir\": \"HYDRO_RESERVOIR\",\n",
    "    \"Marine\": \"HYDRO\",\n",
    "    \"Nuclear\":\"NUCLEAR\",\n",
    "    \"Other\": \"OTHER\",\n",
    "    \"Other renewable\":\"OTHER_RENEWABLE\",\n",
    "    \"Solar\":\"SOLAR\",\n",
    "    \"Waste\":\"WASTE\",\n",
    "    \"Wind Offshore\": \"WIND_OFF_SHORE\",\n",
    "    \"Wind Onshore\":\"WIND_ON_SHORE\"\n",
    "}\n",
    "capacity_df[\"Fuel Type\"] = capacity_df[\"Fuel Type\"].map(map_fuel_type)\n",
    "capacity_df.loc[:, \"unit\"] = \"MW\"\n",
    "# Remove total, which is the only row without a fuel type\n",
    "capacity_df = capacity_df[capacity_df[\"Fuel Type\"].notna()]\n",
    "capacity_df['start_datetime'] = pd.to_datetime(capacity_df['datetime']).dt.strftime(\"%Y-%m-%d %H:%M\")\n",
    "capacity_df['end_datetime'] = (pd.to_datetime(capacity_df['datetime'])+pd.Timedelta(hours=1)).dt.strftime(\"%Y-%m-%d %H:%M\")\n",
    "capacity_df.drop('datetime',axis=1,inplace=True)\n",
    "capacity_df.to_csv(\"installed_capacity.csv\", index=False)"
   ]
  },
  {
   "cell_type": "code",
   "execution_count": 4,
   "metadata": {},
   "outputs": [],
   "source": [
    "# Generation\n",
    "generation_df = pd.read_csv(\"raw/Actual Generation per Production Type_202211010000-202211020000.csv\")\n",
    "\n",
    "generation_df.loc[:, \"Grid Node\"] = \"ES\"\n",
    "generation_df.loc[:, \"unit\"] = \"MWh\"\n",
    "\n",
    "generation_df.loc[:, \"datetime\"] = generation_df.loc[:, \"MTU\"].apply(lambda x: arrow.get(x.split(\" - \")[0], \"DD.MM.YYYY HH:mm\").format(\"YYYY-MM-DD HH:mm\"))\n",
    "\n",
    "generation_df = generation_df.drop(columns=[\"MTU\", \"Area\"])\n",
    "generation_df = generation_df.rename(columns={c: c.split(\"  - Actual Aggregated [MW]\")[0] + \" (MW)\" for c in generation_df.columns if \"Actual Aggregated [MW]\" in c})\n",
    "generation_df['start_datetime'] = pd.to_datetime(generation_df['datetime']).dt.strftime(\"%Y-%m-%d %H:%M\")\n",
    "generation_df['end_datetime'] = (pd.to_datetime(generation_df['datetime'])+pd.Timedelta(hours=1)).dt.strftime(\"%Y-%m-%d %H:%M\")\n",
    "generation_df.drop('datetime',axis=1,inplace=True)\n",
    "generation_df_out = generation_df.rename(columns={\n",
    "    \"Biomass (MW)\": \"BIOMASS\",\n",
    "    \"Fossil Brown coal/Lignite (MW)\": \"BROWN_COAL\",\n",
    "    \"Fossil Coal-derived gas (MW)\": \"COAL_DERIVED_GAS\",\n",
    "    \"Fossil Gas (MW)\": \"OTHER_GAS\",\n",
    "    \"Fossil Hard coal (MW)\":\"HARD_COAL\",\n",
    "    \"Fossil Oil shale (MW)\":\"SHALE_OIL\",\n",
    "    \"Fossil Oil (MW)\":\"OTHER_OIL\",\n",
    "    \"Fossil Peat (MW)\":\"PEAT\",\n",
    "    \"Geothermal (MW)\":\"GEOTHERMAL\",\n",
    "    \"Hydro Pumped Storage (MW)\":\"HYDRO_PUMPED_STORAGE\",\n",
    "    \"Hydro Pumped Storage  - Actual Consumption [MW]\":\"HYDRO_PUMPED_STORAGE_CONSUMPTION\",\n",
    "    \"Hydro Run-of-river and poundage (MW)\": \"HYDRO_RUN_OF_RIVER\",\n",
    "    \"Hydro Water Reservoir (MW)\": \"HYDRO_RESERVOIR\",\n",
    "    \"Marine (MW)\": \"HYDRO\",\n",
    "    \"Nuclear (MW)\":\"NUCLEAR\",\n",
    "    \"Other (MW)\": \"OTHER\",\n",
    "    \"Other renewable (MW)\":\"OTHER_RENEWABLE\",\n",
    "    \"Solar (MW)\":\"SOLAR\",\n",
    "    \"Waste (MW)\":\"WASTE\",\n",
    "    \"Wind Offshore (MW)\": \"WIND_OFF_SHORE\",\n",
    "    \"Wind Onshore (MW)\":\"WIND_ON_SHORE\"\n",
    "})\n",
    "generation_df_out.fillna(0).to_csv(\"generation.csv\", index=False)"
   ]
  },
  {
   "cell_type": "code",
   "execution_count": 8,
   "metadata": {},
   "outputs": [],
   "source": [
    "# Generation per unit\n",
    "\n",
    "# ES-ALMARAZ-1\n",
    "generation_df1 = pd.read_csv(\"raw/Actual Generation per Generation Unit_202304150000-202304160000_1.csv\")\n",
    "df1 = pd.DataFrame(columns=[\"datetime\", \"Grid Node\", \"unit\", \"Fuel Type\", \"Value\"])\n",
    "df1.datetime = pd.date_range(start=\"2023-04-15 00:00:00\", end=\"2023-04-16 00:00:00\", freq=\"H\", inclusive=\"left\")\n",
    "df1[\"Grid Node\"] = \"ES-ALMARAZ-1\"\n",
    "df1[\"unit\"] = \"MWh\"\n",
    "df1[\"Fuel Type\"] = \"NUCLEAR\"\n",
    "df1[\"value\"] = generation_df1[\"Generation [MW]\"].values[1:].astype(float)\n",
    "df1['start_datetime'] = pd.to_datetime(df1['datetime']).dt.strftime(\"%Y-%m-%d %H:%M\")\n",
    "df1['end_datetime'] = (pd.to_datetime(df1['datetime'])+pd.Timedelta(hours=1)).dt.strftime(\"%Y-%m-%d %H:%M\")\n",
    "df1 = df1.drop('datetime', axis=1)\n",
    "df1.to_csv(\"generation_ES-ALMARAZ-UNIT1.csv\", index=False)\n",
    "\n",
    "# ES-ALMARAZ-2\n",
    "generation_df2 = pd.read_csv(\"raw/Actual Generation per Generation Unit_202304150000-202304160000_2.csv\")\n",
    "df2 = pd.DataFrame(columns=[\"datetime\", \"Grid Node\", \"unit\", \"Fuel Type\", \"Value\"])\n",
    "df2.datetime = pd.date_range(start=\"2023-04-15 00:00:00\", end=\"2023-04-16 00:00:00\", freq=\"H\", inclusive=\"left\")\n",
    "df2[\"Grid Node\"] = \"ES-ALMARAZ-2\"\n",
    "df2[\"unit\"] = \"MWh\"\n",
    "df2[\"Fuel Type\"] = \"NUCLEAR\"\n",
    "df2[\"value\"] = generation_df2[\"Generation [MW]\"].values[1:].astype(float)\n",
    "df2['start_datetime'] = pd.to_datetime(df2['datetime']).dt.strftime(\"%Y-%m-%d %H:%M\")\n",
    "df2['end_datetime'] = (pd.to_datetime(df2['datetime'])+pd.Timedelta(hours=1)).dt.strftime(\"%Y-%m-%d %H:%M\")\n",
    "df2 = df2.drop('datetime', axis=1)\n",
    "df2.to_csv(\"generation_ES-ALMARAZ-UNIT2.csv\", index=False)\n",
    "\n",
    "# ES-ALMARAZ\n",
    "# value is the sum of the two units\n",
    "df = pd.concat([df1, df2])\n",
    "df = df.groupby([\"start_datetime\", \"end_datetime\"]).sum(numeric_only=True).reset_index()\n",
    "df[\"Grid Node\"] = \"ES-ALMARAZ\"\n",
    "df[\"unit\"] = \"MWh\"\n",
    "df[\"Fuel Type\"] = \"NUCLEAR\"\n",
    "\n",
    "df.to_csv(\"generation_ES-ALMARAZ-0.csv\", index=False)\n"
   ]
  },
  {
   "cell_type": "code",
   "execution_count": 6,
   "metadata": {},
   "outputs": [],
   "source": [
    "# Imports and Exports\n",
    "imports_exports_df = pd.read_csv(\"raw/Cross-Border Physical Flow_202211010000-202211020000.csv\")\n",
    "\n",
    "\n",
    "imports_exports_df.loc[:, \"datetime\"] = imports_exports_df.loc[:, \"Time (UTC)\"].apply(lambda x: arrow.get(x.split(\" - \")[0], \"DD.MM.YYYY HH:mm\").format(\"YYYY-MM-DD HH:mm\"))\n",
    "\n",
    "final_columns = [\"datetime\", \"Grid Node From\", \"Grid Node To\", \"Value\"]\n",
    "exports_df = imports_exports_df.copy()\n",
    "imports_df = imports_exports_df.copy()\n",
    "\n",
    "exports_df.loc[:, \"Grid Node From\"] = \"ES\"\n",
    "exports_df.loc[:, \"Grid Node To\"] = \"FR\"\n",
    "exports_df = exports_df.rename(columns={\"BZN|ES > BZN|FR [MW]\": \"Value\"})\n",
    "exports_df = exports_df[final_columns]\n",
    "imports_df.loc[:, \"Grid Node From\"] = \"FR\"\n",
    "imports_df.loc[:, \"Grid Node To\"] = \"ES\"\n",
    "imports_df = imports_df.rename(columns={\"BZN|FR > BZN|ES [MW]\": \"Value\"})\n",
    "imports_df = imports_df[final_columns]\n",
    "\n",
    "exchanges_df = pd.concat([exports_df, imports_df])\n",
    "exchanges_df.loc[:, \"unit\"] = \"MWh\"\n",
    "exchanges_df['start_datetime'] = pd.to_datetime(exchanges_df['datetime']).dt.strftime(\"%Y-%m-%d %H:%M\")\n",
    "exchanges_df['end_datetime'] = (pd.to_datetime(exchanges_df['datetime'])+pd.Timedelta(hours=1)).dt.strftime(\"%Y-%m-%d %H:%M\")\n",
    "exchanges_df.drop('datetime',axis=1,inplace=True)\n",
    "exchanges_df.to_csv(\"imports_exports.csv\", index=False)"
   ]
  },
  {
   "cell_type": "code",
   "execution_count": 8,
   "metadata": {},
   "outputs": [],
   "source": [
    "# Load forecast\n",
    "load_forecast_df = pd.read_csv(\"raw/Total Load - Day Ahead _ Actual_202211010000-202211020000.csv\")\n",
    "\n",
    "load_forecast_df.loc[:, \"Grid Node\"] = \"ES\"\n",
    "load_forecast_df.loc[:, \"datetime\"] = load_forecast_df.loc[:, \"Time (UTC)\"].apply(lambda x: arrow.get(x.split(\" - \")[0], \"DD.MM.YYYY HH:mm\").format(\"YYYY-MM-DD HH:mm\"))\n",
    "load_forecast_df = load_forecast_df.drop(columns=[\"Time (UTC)\"])\n",
    "load_forecast_df = load_forecast_df.rename(columns={\"Day-ahead Total Load Forecast [MW] - BZN|ES\": \"Demand Forecast (MW)\"})\n",
    "load_forecast_df['start_datetime'] = pd.to_datetime(load_forecast_df['datetime']).dt.strftime(\"%Y-%m-%d %H:%M\")\n",
    "load_forecast_df['end_datetime'] = (pd.to_datetime(load_forecast_df['datetime'])+pd.Timedelta(hours=1)).dt.strftime(\"%Y-%m-%d %H:%M\")\n",
    "load_forecast_df['unit'] = 'MWh'\n",
    "load_forecast_df = load_forecast_df.rename(columns={'Demand Forecast (MW)':'forecast','Actual Total Load [MW] - BZN|ES':'actual'})\n",
    "load_forecast_df.drop('datetime',axis=1,inplace=True)\n",
    "load_forecast_df.to_csv(\"load_forecast.csv\", index=False)"
   ]
  },
  {
   "cell_type": "code",
   "execution_count": null,
   "metadata": {},
   "outputs": [],
   "source": []
  }
 ],
 "metadata": {
  "kernelspec": {
   "display_name": "Python 3 (ipykernel)",
   "language": "python",
   "name": "python3"
  },
  "language_info": {
   "codemirror_mode": {
    "name": "ipython",
    "version": 3
   },
   "file_extension": ".py",
   "mimetype": "text/x-python",
   "name": "python",
   "nbconvert_exporter": "python",
   "pygments_lexer": "ipython3",
   "version": "3.9.13"
  },
  "vscode": {
   "interpreter": {
    "hash": "4cbbee6cf7be8fe68da2b79ea3b09ec4ddee9bc5285083e7d5da38251eae9c79"
   }
  }
 },
 "nbformat": 4,
 "nbformat_minor": 4
}
