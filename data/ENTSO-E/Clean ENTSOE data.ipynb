{
 "cells": [
  {
   "cell_type": "code",
   "execution_count": 1,
   "metadata": {},
   "outputs": [],
   "source": [
    "%load_ext autoreload\n",
    "%autoreload 2"
   ]
  },
  {
   "cell_type": "code",
   "execution_count": 9,
   "metadata": {},
   "outputs": [],
   "source": [
    "import os\n",
    "\n",
    "import arrow\n",
    "import pandas as pd"
   ]
  },
  {
   "cell_type": "markdown",
   "metadata": {},
   "source": [
    "Everything is for Spain (ES)"
   ]
  },
  {
   "cell_type": "code",
   "execution_count": 7,
   "metadata": {},
   "outputs": [],
   "source": [
    "# Installed Capacity\n",
    "capacity_df = pd.read_csv(\"Installed Capacity per Production Type_202201010000-202301010000.csv\")\n",
    "\n",
    "capacity_df.loc[:, \"Balancing Region\"] = \"ES\"\n",
    "capacity_df.loc[:, \"datetime\"] = \"2022-01-01\"\n",
    "capacity_df = capacity_df.rename(columns={\"Production Type\": \"Fuel Type\", \"2022 [MW]\": \"Capacity (MW)\"})\n",
    "\n",
    "capacity_df.to_csv(\"installed_capacity.csv\", index=False)"
   ]
  },
  {
   "cell_type": "code",
   "execution_count": 17,
   "metadata": {},
   "outputs": [],
   "source": [
    "# Generation\n",
    "generation_df = pd.read_csv(\"Actual Generation per Production Type_202211010000-202211020000.csv\")\n",
    "\n",
    "generation_df.loc[:, \"Balancing Region\"] = \"ES\"\n",
    "generation_df.loc[:, \"datetime\"] = generation_df.loc[:, \"MTU\"].apply(lambda x: arrow.get(x.split(\" - \")[0], \"DD.MM.YYYY HH:mm\").format(\"YYYY-MM-DD HH:mm\"))\n",
    "\n",
    "generation_df = generation_df.drop(columns=[\"MTU\", \"Area\"])\n",
    "generation_df = generation_df.rename(columns={c: c.split(\"  - Actual Aggregated [MW]\")[0] + \" (MW)\" for c in generation_df.columns if \"Actual Aggregated [MW]\" in c})\n",
    "\n",
    "generation_df.to_csv(\"generation.csv\", index=False)"
   ]
  },
  {
   "cell_type": "code",
   "execution_count": 22,
   "metadata": {},
   "outputs": [],
   "source": [
    "# Imports and Exports\n",
    "imports_exports_df = pd.read_csv(\"Cross-Border Physical Flow_202211010000-202211020000.csv\")\n",
    "\n",
    "imports_exports_df.loc[:, \"Balancing Region\"] = \"ES\"\n",
    "imports_exports_df.loc[:, \"datetime\"] = imports_exports_df.loc[:, \"Time (UTC)\"].apply(lambda x: arrow.get(x.split(\" - \")[0], \"DD.MM.YYYY HH:mm\").format(\"YYYY-MM-DD HH:mm\"))\n",
    "\n",
    "imports_exports_df = imports_exports_df.rename(columns={\"BZN|FR > BZN|ES [MW]\": \"FR import (MW)\", \"BZN|ES > BZN|FR [MW]\": \"FR export (MW)\"})\n",
    "imports_exports_df = imports_exports_df.drop(columns=[\"Time (UTC)\"])\n",
    "\n",
    "imports_exports_df.to_csv(\"imports_exports.csv\", index=False)"
   ]
  },
  {
   "cell_type": "code",
   "execution_count": 26,
   "metadata": {},
   "outputs": [],
   "source": [
    "# Load forecast\n",
    "load_forecast_df = pd.read_csv(\"Total Load - Day Ahead _ Actual_202211010000-202211020000.csv\")\n",
    "\n",
    "load_forecast_df.loc[:, \"datetime\"] = load_forecast_df.loc[:, \"Time (UTC)\"].apply(lambda x: arrow.get(x.split(\" - \")[0], \"DD.MM.YYYY HH:mm\").format(\"YYYY-MM-DD HH:mm\"))\n",
    "load_forecast_df = load_forecast_df.drop(columns=[\"Time (UTC)\"])\n",
    "load_forecast_df = load_forecast_df.rename(columns={\"Day-ahead Total Load Forecast [MW] - BZN|ES\": \"Demand Forecast (MW)\"})\n",
    "\n",
    "load_forecast_df.to_csv(\"load_forecast.csv\", index=False)"
   ]
  },
  {
   "cell_type": "code",
   "execution_count": null,
   "metadata": {},
   "outputs": [],
   "source": []
  }
 ],
 "metadata": {
  "kernelspec": {
   "display_name": "Python 3 (ipykernel)",
   "language": "python",
   "name": "python3"
  },
  "language_info": {
   "codemirror_mode": {
    "name": "ipython",
    "version": 3
   },
   "file_extension": ".py",
   "mimetype": "text/x-python",
   "name": "python",
   "nbconvert_exporter": "python",
   "pygments_lexer": "ipython3",
   "version": "3.10.4"
  },
  "vscode": {
   "interpreter": {
    "hash": "4cbbee6cf7be8fe68da2b79ea3b09ec4ddee9bc5285083e7d5da38251eae9c79"
   }
  }
 },
 "nbformat": 4,
 "nbformat_minor": 4
}
