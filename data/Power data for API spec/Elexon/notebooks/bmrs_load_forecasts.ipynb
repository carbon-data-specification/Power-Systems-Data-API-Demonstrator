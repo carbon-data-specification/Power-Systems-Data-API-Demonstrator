{
 "cells": [
  {
   "cell_type": "code",
   "execution_count": 1,
   "id": "3be02fdd",
   "metadata": {},
   "outputs": [],
   "source": [
    "# Import libraries\n",
    "from ElexonDataPortal import api\n",
    "import warnings\n",
    "import pandas as pd\n",
    "from sp2ts import sp2ts, ts2sp, from_unixtime, sp2dt\n",
    "from datetime import datetime, timedelta"
   ]
  },
  {
   "cell_type": "code",
   "execution_count": 2,
   "id": "38bdf47f",
   "metadata": {},
   "outputs": [],
   "source": [
    "# Initialize client to make API requests to elexon\n",
    "client = api.Client(\"fq5wqyjmzynb1uu\")"
   ]
  },
  {
   "cell_type": "code",
   "execution_count": 3,
   "id": "01878323",
   "metadata": {},
   "outputs": [],
   "source": [
    "# Initialize start and end dates\n",
    "start_date = pd.Timestamp(datetime(2022,1,1))\n",
    "end_date = datetime(2022,1,2)"
   ]
  },
  {
   "cell_type": "code",
   "execution_count": 4,
   "id": "6f6d5027",
   "metadata": {},
   "outputs": [],
   "source": [
    "# Initialize empty list to append load dataframes\n",
    "load_list = []"
   ]
  },
  {
   "cell_type": "code",
   "execution_count": 8,
   "id": "d070815b",
   "metadata": {},
   "outputs": [
    {
     "name": "stderr",
     "output_type": "stream",
     "text": [
      "/var/folders/8j/_b25ntsx2rs5l3_6fp4p3xc00000gn/T/ipykernel_28466/2284050528.py:10: SettingWithCopyWarning: \n",
      "A value is trying to be set on a copy of a slice from a DataFrame.\n",
      "Try using .loc[row_indexer,col_indexer] = value instead\n",
      "\n",
      "See the caveats in the documentation: https://pandas.pydata.org/pandas-docs/stable/user_guide/indexing.html#returning-a-view-versus-a-copy\n",
      "  df_.loc[:,'settlementDate'] = pd.to_datetime(df_['settlementDate']).dt.date\n",
      "/var/folders/8j/_b25ntsx2rs5l3_6fp4p3xc00000gn/T/ipykernel_28466/2284050528.py:11: SettingWithCopyWarning: \n",
      "A value is trying to be set on a copy of a slice from a DataFrame.\n",
      "Try using .loc[row_indexer,col_indexer] = value instead\n",
      "\n",
      "See the caveats in the documentation: https://pandas.pydata.org/pandas-docs/stable/user_guide/indexing.html#returning-a-view-versus-a-copy\n",
      "  df_.loc[:,'settlementPeriod'] = df_['settlementPeriod'].astype(int)\n",
      "/var/folders/8j/_b25ntsx2rs5l3_6fp4p3xc00000gn/T/ipykernel_28466/2284050528.py:13: SettingWithCopyWarning: \n",
      "A value is trying to be set on a copy of a slice from a DataFrame.\n",
      "Try using .loc[row_indexer,col_indexer] = value instead\n",
      "\n",
      "See the caveats in the documentation: https://pandas.pydata.org/pandas-docs/stable/user_guide/indexing.html#returning-a-view-versus-a-copy\n",
      "  df_.loc[:,'datetime'] = df_.apply(lambda x: sp2dt(x['settlementDate'], x['settlementPeriod'], closed=\"left\"), axis=1)\n",
      "/var/folders/8j/_b25ntsx2rs5l3_6fp4p3xc00000gn/T/ipykernel_28466/2284050528.py:15: SettingWithCopyWarning: \n",
      "A value is trying to be set on a copy of a slice from a DataFrame.\n",
      "Try using .loc[row_indexer,col_indexer] = value instead\n",
      "\n",
      "See the caveats in the documentation: https://pandas.pydata.org/pandas-docs/stable/user_guide/indexing.html#returning-a-view-versus-a-copy\n",
      "  df_.loc[:,'Demand Forecast (MW)'] = df[df['recordType'] == 'DANF']['demand'].values\n",
      "/var/folders/8j/_b25ntsx2rs5l3_6fp4p3xc00000gn/T/ipykernel_28466/2284050528.py:16: SettingWithCopyWarning: \n",
      "A value is trying to be set on a copy of a slice from a DataFrame.\n",
      "Try using .loc[row_indexer,col_indexer] = value instead\n",
      "\n",
      "See the caveats in the documentation: https://pandas.pydata.org/pandas-docs/stable/user_guide/indexing.html#returning-a-view-versus-a-copy\n",
      "  df_.loc[:,'Demand Forecast (MW)'] = df_['Demand Forecast (MW)'].astype(float)\n",
      "/var/folders/8j/_b25ntsx2rs5l3_6fp4p3xc00000gn/T/ipykernel_28466/2284050528.py:17: SettingWithCopyWarning: \n",
      "A value is trying to be set on a copy of a slice from a DataFrame.\n",
      "Try using .loc[row_indexer,col_indexer] = value instead\n",
      "\n",
      "See the caveats in the documentation: https://pandas.pydata.org/pandas-docs/stable/user_guide/indexing.html#returning-a-view-versus-a-copy\n",
      "  df_.loc[:, 'Actual Total Load (MW)'] = df[df['recordType'] == 'DAID']['spnDemand'].values\n",
      "/var/folders/8j/_b25ntsx2rs5l3_6fp4p3xc00000gn/T/ipykernel_28466/2284050528.py:18: SettingWithCopyWarning: \n",
      "A value is trying to be set on a copy of a slice from a DataFrame.\n",
      "Try using .loc[row_indexer,col_indexer] = value instead\n",
      "\n",
      "See the caveats in the documentation: https://pandas.pydata.org/pandas-docs/stable/user_guide/indexing.html#returning-a-view-versus-a-copy\n",
      "  df_.loc[:,'Actual Total Load (MW)'] = df_['Actual Total Load (MW)'].astype(float).abs()\n"
     ]
    }
   ],
   "source": [
    "while start_date < end_date:\n",
    "    # Requesting data from elexon 15 days at a time to handle API constraints\n",
    "    new_end = start_date + timedelta(days=15)\n",
    "    if new_end > end_date:\n",
    "        new_end = end_date\n",
    "#     Requesting data from day and day ahead demand https://www.bmreports.com/bmrs/?q=demand/dayanddayaheaddemand\n",
    "    df = client.get_FORDAYDEM(start_date.date(), new_end.date())\n",
    "    df_ = pd.DataFrame()\n",
    "    df_ = df[df['recordType'] == 'DATF']\n",
    "    df_.loc[:,'settlementDate'] = pd.to_datetime(df_['settlementDate']).dt.date\n",
    "    df_.loc[:,'settlementPeriod'] = df_['settlementPeriod'].astype(int)\n",
    "#     Converting settlement date and settlement period to datetime objects\n",
    "    df_.loc[:,'datetime'] = df_.apply(lambda x: sp2dt(x['settlementDate'], x['settlementPeriod'], closed=\"left\"), axis=1)\n",
    "#     Capturing NDF, TSDF, DAID, DAIG. Refer https://www.bmreports.com/bmrs/?q=demand/dayanddayaheaddemand\n",
    "    df_.loc[:,'Demand Forecast (MW)'] = df[df['recordType'] == 'DANF']['demand'].values\n",
    "    df_.loc[:,'Demand Forecast (MW)'] = df_['Demand Forecast (MW)'].astype(float)\n",
    "    df_.loc[:, 'Actual Total Load (MW)'] = df[df['recordType'] == 'DAID']['spnDemand'].values\n",
    "    df_.loc[:,'Actual Total Load (MW)'] = df_['Actual Total Load (MW)'].astype(float).abs()\n",
    "#     Aggregating data by 1 hour and calculating mean for all the features\n",
    "    df_ = df_.groupby([pd.Grouper(freq='1H', key='datetime')]).agg({'Demand Forecast (MW)':'mean', 'Actual Total Load (MW)':'mean'}).reset_index()\n",
    "#     Appending 15 days or less of data into the load list\n",
    "    load_list.append(df_)\n",
    "    start_date = new_end"
   ]
  },
  {
   "cell_type": "code",
   "execution_count": 9,
   "id": "89dd0b17",
   "metadata": {},
   "outputs": [],
   "source": [
    "# Converting load_list to a dataframe\n",
    "df_load = pd.concat(load_list)"
   ]
  },
  {
   "cell_type": "code",
   "execution_count": 10,
   "id": "9a23f84a",
   "metadata": {},
   "outputs": [
    {
     "data": {
      "text/html": [
       "<div>\n",
       "<style scoped>\n",
       "    .dataframe tbody tr th:only-of-type {\n",
       "        vertical-align: middle;\n",
       "    }\n",
       "\n",
       "    .dataframe tbody tr th {\n",
       "        vertical-align: top;\n",
       "    }\n",
       "\n",
       "    .dataframe thead th {\n",
       "        text-align: right;\n",
       "    }\n",
       "</style>\n",
       "<table border=\"1\" class=\"dataframe\">\n",
       "  <thead>\n",
       "    <tr style=\"text-align: right;\">\n",
       "      <th></th>\n",
       "      <th>datetime</th>\n",
       "      <th>Demand Forecast (MW)</th>\n",
       "      <th>Actual Total Load (MW)</th>\n",
       "    </tr>\n",
       "  </thead>\n",
       "  <tbody>\n",
       "    <tr>\n",
       "      <th>0</th>\n",
       "      <td>2022-01-01 00:00:00+00:00</td>\n",
       "      <td>21760.0</td>\n",
       "      <td>21482.0</td>\n",
       "    </tr>\n",
       "    <tr>\n",
       "      <th>1</th>\n",
       "      <td>2022-01-01 01:00:00+00:00</td>\n",
       "      <td>20787.0</td>\n",
       "      <td>21623.0</td>\n",
       "    </tr>\n",
       "    <tr>\n",
       "      <th>2</th>\n",
       "      <td>2022-01-01 02:00:00+00:00</td>\n",
       "      <td>18960.5</td>\n",
       "      <td>22955.5</td>\n",
       "    </tr>\n",
       "    <tr>\n",
       "      <th>3</th>\n",
       "      <td>2022-01-01 03:00:00+00:00</td>\n",
       "      <td>17343.5</td>\n",
       "      <td>22924.0</td>\n",
       "    </tr>\n",
       "    <tr>\n",
       "      <th>4</th>\n",
       "      <td>2022-01-01 04:00:00+00:00</td>\n",
       "      <td>16407.5</td>\n",
       "      <td>22886.0</td>\n",
       "    </tr>\n",
       "  </tbody>\n",
       "</table>\n",
       "</div>"
      ],
      "text/plain": [
       "                   datetime  Demand Forecast (MW)  Actual Total Load (MW)\n",
       "0 2022-01-01 00:00:00+00:00               21760.0                 21482.0\n",
       "1 2022-01-01 01:00:00+00:00               20787.0                 21623.0\n",
       "2 2022-01-01 02:00:00+00:00               18960.5                 22955.5\n",
       "3 2022-01-01 03:00:00+00:00               17343.5                 22924.0\n",
       "4 2022-01-01 04:00:00+00:00               16407.5                 22886.0"
      ]
     },
     "execution_count": 10,
     "metadata": {},
     "output_type": "execute_result"
    }
   ],
   "source": [
    "df_load.head()"
   ]
  },
  {
   "cell_type": "code",
   "execution_count": 11,
   "id": "eca2cb5e",
   "metadata": {},
   "outputs": [],
   "source": [
    "# Writing outputs of forecast loads to a csv file\n",
    "df_load.to_csv('forecast_load.csv', index=False)"
   ]
  },
  {
   "cell_type": "code",
   "execution_count": null,
   "id": "f3d43e8c",
   "metadata": {},
   "outputs": [],
   "source": []
  }
 ],
 "metadata": {
  "kernelspec": {
   "display_name": "Python 3 (ipykernel)",
   "language": "python",
   "name": "python3"
  },
  "language_info": {
   "codemirror_mode": {
    "name": "ipython",
    "version": 3
   },
   "file_extension": ".py",
   "mimetype": "text/x-python",
   "name": "python",
   "nbconvert_exporter": "python",
   "pygments_lexer": "ipython3",
   "version": "3.9.6"
  }
 },
 "nbformat": 4,
 "nbformat_minor": 5
}
