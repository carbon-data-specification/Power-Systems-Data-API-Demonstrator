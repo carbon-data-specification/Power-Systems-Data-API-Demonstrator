{
 "cells": [
  {
   "cell_type": "code",
   "execution_count": 1,
   "id": "29e540b1",
   "metadata": {},
   "outputs": [],
   "source": [
    "# Import libraries\n",
    "from datetime import date\n",
    "# Third party library for elexon - https://github.com/SheffieldSolar/Elexon-BMRS-API\n",
    "from bmrs_api import BMRSDownloader\n",
    "import pandas as pd"
   ]
  },
  {
   "cell_type": "code",
   "execution_count": 2,
   "id": "1f6aeae3",
   "metadata": {},
   "outputs": [],
   "source": [
    "# Initializing api client\n",
    "bmrs = BMRSDownloader(api_key=\"fq5wqyjmzynb1uu\")"
   ]
  },
  {
   "cell_type": "code",
   "execution_count": 3,
   "id": "7896dc95",
   "metadata": {},
   "outputs": [],
   "source": [
    "# Defining start and end years\n",
    "start_year = 2021\n",
    "end_year = 2023"
   ]
  },
  {
   "cell_type": "code",
   "execution_count": 4,
   "id": "cc4adb44",
   "metadata": {},
   "outputs": [],
   "source": [
    "# Downloading data for the specified timeperiod\n",
    "df = bmrs.download(\"B1410\",start_year=start_year, end_year=end_year)"
   ]
  },
  {
   "cell_type": "code",
   "execution_count": 5,
   "id": "b6bf77b7",
   "metadata": {},
   "outputs": [],
   "source": [
    "# Renaming column names\n",
    "df.rename({'PowerSystemResourceType':'Fuel Type', 'Quantity': 'Capacity', 'Year':'datetime'}, axis=1, inplace=True)"
   ]
  },
  {
   "cell_type": "code",
   "execution_count": 6,
   "id": "bf4754d4",
   "metadata": {},
   "outputs": [],
   "source": [
    "df = df[['datetime','Fuel Type', 'Capacity']]"
   ]
  },
  {
   "cell_type": "code",
   "execution_count": 7,
   "id": "a4dc3592",
   "metadata": {},
   "outputs": [],
   "source": [
    "df.loc[:,'datetime'] = df['datetime'].astype(str) + '-01-01'"
   ]
  },
  {
   "cell_type": "code",
   "execution_count": 8,
   "id": "8760e136",
   "metadata": {},
   "outputs": [],
   "source": [
    "# Writing output to csv\n",
    "df.to_csv('installed_generation_capacity.csv', index=False)"
   ]
  },
  {
   "cell_type": "code",
   "execution_count": null,
   "id": "70070dc6",
   "metadata": {},
   "outputs": [],
   "source": []
  }
 ],
 "metadata": {
  "kernelspec": {
   "display_name": "Python 3 (ipykernel)",
   "language": "python",
   "name": "python3"
  },
  "language_info": {
   "codemirror_mode": {
    "name": "ipython",
    "version": 3
   },
   "file_extension": ".py",
   "mimetype": "text/x-python",
   "name": "python",
   "nbconvert_exporter": "python",
   "pygments_lexer": "ipython3",
   "version": "3.9.6"
  }
 },
 "nbformat": 4,
 "nbformat_minor": 5
}
