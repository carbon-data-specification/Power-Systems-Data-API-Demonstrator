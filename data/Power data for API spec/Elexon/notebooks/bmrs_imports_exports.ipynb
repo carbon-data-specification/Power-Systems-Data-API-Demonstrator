{
 "cells": [
  {
   "cell_type": "code",
   "execution_count": 1,
   "id": "74247cf1",
   "metadata": {},
   "outputs": [],
   "source": [
    "import pandas as pd\n",
    "import requests\n",
    "from sp2ts import sp2dt\n",
    "import xmltodict\n",
    "import numpy as np"
   ]
  },
  {
   "cell_type": "code",
   "execution_count": 2,
   "id": "63ef83d5",
   "metadata": {},
   "outputs": [],
   "source": [
    "# Define API key\n",
    "api_key = \"441ni983w8egwzv\""
   ]
  },
  {
   "cell_type": "code",
   "execution_count": 3,
   "id": "c7a273e5",
   "metadata": {},
   "outputs": [],
   "source": [
    "# Interconnector map to rename columns in the bmrs outputs appropriately\n",
    "interconnector_map = {\n",
    "    'intfrGeneration':'IFA',\n",
    "    'intirlGeneration':'Moyle', \n",
    "    'intnedGeneration':'BritNEd', \n",
    "    'intewGeneration':'EastWest',\n",
    "    'intnemGeneration':'NEMO', \n",
    "    'intifa2Generation':'IFA2',\n",
    "    'intnslGeneration':'NorthSeaLink'\n",
    "}"
   ]
  },
  {
   "cell_type": "code",
   "execution_count": 4,
   "id": "de8710a1",
   "metadata": {},
   "outputs": [
    {
     "data": {
      "text/plain": [
       "dict_values(['IFA', 'Moyle', 'BritNEd', 'EastWest', 'NEMO', 'IFA2', 'NorthSeaLink'])"
      ]
     },
     "execution_count": 4,
     "metadata": {},
     "output_type": "execute_result"
    }
   ],
   "source": [
    "interconnector_map.values()"
   ]
  },
  {
   "cell_type": "code",
   "execution_count": 5,
   "id": "ee77d9ef",
   "metadata": {},
   "outputs": [],
   "source": [
    "def format_url(**kwargs):\n",
    "        '''\n",
    "        Function that takes bmrs parameters and formats the url appropriately\n",
    "        Parameters:\n",
    "            param (* = non-mandatory)   sample data                                                         format\n",
    "            version_no                  3.1\n",
    "            api_key                     AP8DA23\n",
    "            settlement_date*            2014-02-01                                                          YYYY-MM-DD\n",
    "            settlement_period*          12                                                                  1 to 50 or *\n",
    "            service_type*               csv/xml/CSV/XML\n",
    "        Returns:\n",
    "            url - formatted url taking into account params sent in kwargs\n",
    "        '''\n",
    "        url = \"https://api.bmreports.com/BMRS/INTERFUELHH/{version_no}?APIKey={api_key}&FromDate={start_date}&ToDate={end_date}\"\n",
    "        version_no = \"v1\"\n",
    "        kwargs['version_no'] = version_no\n",
    "        if 'service_type' in kwargs:\n",
    "            url = url+\"&ServiceType={service_type}\"\n",
    "        url = url.format(**kwargs)\n",
    "        return url"
   ]
  },
  {
   "cell_type": "code",
   "execution_count": 6,
   "id": "661ab4f5",
   "metadata": {},
   "outputs": [],
   "source": [
    "# Requesting bmrs interconnector API and renaming columns appropriately using the interconnector map\n",
    "def systemDemandData(start_date, end_date):\n",
    "    url = format_url(start_date=start_date, end_date=end_date, api_key=api_key)\n",
    "    data = requests.get(url)\n",
    "    data = xmltodict.parse(data.text)\n",
    "    status = data.get('response',{}).get('responseMetadata',{}).get('httpCode',404)\n",
    "    if int(status) == 200:\n",
    "        data = data.get('response',{}).get('responseBody',{}).get('responseList',{}).get('item')\n",
    "        df = pd.DataFrame(data)\n",
    "#         print(df)\n",
    "        df.rename({'startTimeOfHalfHrPeriod':'settlementPeriod'}, axis=1, inplace=True)\n",
    "        df.rename(interconnector_map, axis=1, inplace=True)\n",
    "        return df[['settlementDate','settlementPeriod', 'IFA', 'Moyle', 'BritNEd', 'EastWest', 'NEMO', 'IFA2', 'NorthSeaLink']]"
   ]
  },
  {
   "cell_type": "code",
   "execution_count": 7,
   "id": "afc31bb9",
   "metadata": {},
   "outputs": [],
   "source": [
    "# Converting settlement date and settlement period to datetime\n",
    "def convert_dt(settlementDate, settlmentPeriod):\n",
    "    return sp2dt(settlementDate, settlmentPeriod, closed=\"right\")"
   ]
  },
  {
   "cell_type": "code",
   "execution_count": 8,
   "id": "42a9fe30",
   "metadata": {},
   "outputs": [],
   "source": [
    "start_date = '2022-08-01'\n",
    "end_date = '2022-08-02'"
   ]
  },
  {
   "cell_type": "code",
   "execution_count": 9,
   "id": "da6ccaec",
   "metadata": {},
   "outputs": [
    {
     "name": "stderr",
     "output_type": "stream",
     "text": [
      "/Users/kalpitha/miniforge3/envs/enc/lib/python3.9/site-packages/sp2ts/sp2ts.py:114: FutureWarning: Comparison of Timestamp with datetime.date is deprecated in order to match the standard library behavior. In a future version these will be considered non-comparable. Use 'ts == pd.Timestamp(date)' or 'ts.date() == date' instead.\n",
      "  if date_ < min_date or date_ > max_date:\n"
     ]
    }
   ],
   "source": [
    "df = systemDemandData(start_date, end_date)\n",
    "# Converting settlementDate to pandas datetime objects\n",
    "df.loc[:,'settlementDate'] = pd.to_datetime(df['settlementDate'])\n",
    "# Converting settlementPeriod to integer\n",
    "df.loc[:,'settlementPeriod'] = df['settlementPeriod'].astype(int)\n",
    "df.loc[:,'datetime'] = df.apply(lambda x: convert_dt(x['settlementDate'],x['settlementPeriod']), axis=1)\n",
    "# Filtering out only entries that are within the time period in consideration\n",
    "df = df[(df['datetime'] > start_date)&(df['datetime'] <= end_date)]"
   ]
  },
  {
   "cell_type": "code",
   "execution_count": 10,
   "id": "c590f4a0",
   "metadata": {},
   "outputs": [],
   "source": [
    "# Dropping columns settlement date and settlement period \n",
    "df.drop(['settlementDate','settlementPeriod'],axis=1, inplace=True)\n",
    "\n",
    "numeric_columns = set(df.columns) - {'datetime'}\n",
    "numeric_columns = list(numeric_columns)\n",
    "for i in numeric_columns:\n",
    "    if i != 'datetime':\n",
    "        df.loc[:, i] = df[i].astype(float)\n",
    "df.loc[:, 'Total Export (MW)'] = df[df[numeric_columns] < 0].sum(axis=1)\n",
    "df.loc[:, 'Total Import (MW)'] = df[df[numeric_columns] > 0].sum(axis=1)"
   ]
  },
  {
   "cell_type": "code",
   "execution_count": 12,
   "id": "5307e563",
   "metadata": {},
   "outputs": [],
   "source": [
    "# Writing dataframe as a csv file\n",
    "df.to_csv('interconnector_exchanges.csv', index=False)"
   ]
  },
  {
   "cell_type": "code",
   "execution_count": null,
   "id": "e9f32ddb",
   "metadata": {},
   "outputs": [],
   "source": []
  },
  {
   "cell_type": "code",
   "execution_count": null,
   "id": "cc026ea6",
   "metadata": {},
   "outputs": [],
   "source": []
  },
  {
   "cell_type": "code",
   "execution_count": null,
   "id": "737b8a53",
   "metadata": {},
   "outputs": [],
   "source": []
  }
 ],
 "metadata": {
  "kernelspec": {
   "display_name": "Python 3 (ipykernel)",
   "language": "python",
   "name": "python3"
  },
  "language_info": {
   "codemirror_mode": {
    "name": "ipython",
    "version": 3
   },
   "file_extension": ".py",
   "mimetype": "text/x-python",
   "name": "python",
   "nbconvert_exporter": "python",
   "pygments_lexer": "ipython3",
   "version": "3.9.6"
  }
 },
 "nbformat": 4,
 "nbformat_minor": 5
}
