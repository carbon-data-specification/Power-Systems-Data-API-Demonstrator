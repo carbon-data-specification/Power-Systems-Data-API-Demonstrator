{
 "cells": [
  {
   "cell_type": "code",
   "execution_count": 20,
   "id": "add18ae8",
   "metadata": {},
   "outputs": [],
   "source": [
    "import requests\n",
    "import json\n",
    "import pandas as pd\n",
    "\n",
    "import os\n",
    "eia_api_key = os.environ['EIA_API_KEY']"
   ]
  },
  {
   "cell_type": "markdown",
   "id": "e5daa605",
   "metadata": {},
   "source": [
    "# Fetching Raw Data"
   ]
  },
  {
   "cell_type": "code",
   "execution_count": 74,
   "id": "7bf62fb2",
   "metadata": {},
   "outputs": [],
   "source": [
    "## GENERATION\n",
    "\n",
    "params = {\n",
    "    'api_key': eia_api_key, \n",
    "}\n",
    "headers = {\"X-Params\":json.dumps(\n",
    "    {\n",
    "        \"facets\":{\"respondent\": [\"CISO\"]},\n",
    "        'start': '2021-06-01',\n",
    "        \"data\": [\"value\"],\n",
    "        'end':'2021-06-01T23',\n",
    "        'frequency':'hourly',\n",
    "        'sort': [{\"column\": \"period\",\"direction\":\"asc\"}]\n",
    "})}\n",
    "response = requests.get(\n",
    "    \"https://api.eia.gov/v2/electricity/rto/fuel-type-data/data/\",\n",
    "    params=params, \n",
    "    headers=headers\n",
    ")\n",
    "pd.DataFrame(response.json()['response']['data']).to_csv('raw/generation.csv', index=False)"
   ]
  },
  {
   "cell_type": "code",
   "execution_count": 75,
   "id": "f4ceba57",
   "metadata": {},
   "outputs": [],
   "source": [
    "# Capacity\n",
    "headers = {\"X-Params\": json.dumps({\n",
    "    \"frequency\": \"monthly\",\n",
    "    \"data\": [\n",
    "        \"nameplate-capacity-mw\"\n",
    "    ],\n",
    "    \"facets\": {\n",
    "        \"balancing_authority_code\": [\n",
    "            \"CISO\"\n",
    "        ]\n",
    "    },\n",
    "    \"start\": \"2021-06\",\n",
    "    \"end\": \"2021-06\",\n",
    "    \"sort\": [\n",
    "        {\n",
    "            \"column\": \"period\",\n",
    "            \"direction\": \"desc\"\n",
    "        }\n",
    "    ],\n",
    "})}\n",
    "response = requests.get(\n",
    "    \"https://api.eia.gov/v2/electricity/operating-generator-capacity/data/\",\n",
    "    params=params, \n",
    "    headers=headers\n",
    ")\n",
    "response.json()\n",
    "pd.DataFrame(response.json()['response']['data']).to_csv('raw/capacity.csv', index=False)"
   ]
  },
  {
   "cell_type": "code",
   "execution_count": 85,
   "id": "63d3dada",
   "metadata": {},
   "outputs": [],
   "source": [
    "## Imports/Exports\n",
    "\n",
    "params = {\n",
    "    'api_key': eia_api_key, \n",
    "}\n",
    "headers = {\"X-Params\":json.dumps(\n",
    "    {\n",
    "        \"facets\":{\"fromba\": [\"CISO\"]},\n",
    "        'start': '2021-06-01',\n",
    "        \"data\": [\"value\"],\n",
    "        'end':'2021-06-01T23',\n",
    "        'frequency':'hourly',\n",
    "        'sort': [{\"column\": \"period\",\"direction\":\"asc\"}]\n",
    "})}\n",
    "response = requests.get(\n",
    "    \"https://api.eia.gov/v2/electricity/rto/interchange-data/data/\",\n",
    "    params=params, \n",
    "    headers=headers\n",
    ")\n",
    "pd.DataFrame(response.json()['response']['data']).to_csv('raw/imports_exports.csv', index=False)"
   ]
  },
  {
   "cell_type": "code",
   "execution_count": 129,
   "id": "dc70c8a8",
   "metadata": {},
   "outputs": [],
   "source": [
    "## Load Forecast. \n",
    "\n",
    "params = {\n",
    "    'api_key': eia_api_key, \n",
    "}\n",
    "headers = {\"X-Params\":json.dumps(\n",
    "    {\n",
    "        \"facets\":{\"respondent\": [\"CISO\"]},\n",
    "        'start': '2022-06-01T00',\n",
    "        'end':'2022-06-01T23',\n",
    "        \"data\": [\"value\"],\n",
    "        'frequency':'hourly',\n",
    "        'sort': [{\"column\": \"period\",\"direction\":\"asc\"}]\n",
    "})}\n",
    "\n",
    "response = requests.get(\n",
    "    \"https://api.eia.gov/v2/electricity/rto/region-data/data/\",\n",
    "    params=params, \n",
    "    headers=headers\n",
    ")\n",
    "\n",
    "pd.DataFrame(response.json()['response']['data']).to_csv('raw/load_forecast.csv', index=False)"
   ]
  },
  {
   "cell_type": "markdown",
   "id": "f776b8bb",
   "metadata": {},
   "source": [
    "# Transforming Data"
   ]
  },
  {
   "cell_type": "code",
   "execution_count": 69,
   "id": "4b49b755",
   "metadata": {},
   "outputs": [],
   "source": [
    "# Generation\n",
    "\n",
    "# Time is in UTC\n",
    "df = pd.read_csv('raw/generation.csv')\n",
    "df = pd.pivot_table(\n",
    "    df,\n",
    "    values=\"value\",\n",
    "    index=[\"respondent\", \"period\"],\n",
    "    columns=\"type-name\"\n",
    ").fillna(0).reset_index()\n",
    "\n",
    "# Rename and reformat to align with ENTSO-E\n",
    "df['datetime'] = pd.to_datetime(df['period']).dt.strftime(\"%Y-%m-%d %H:%M\")\n",
    "df.drop(['period'], inplace=True, axis=1)\n",
    "df = df.rename(columns={\n",
    "    \"respondent\":\"Balancing Region\",\n",
    "    \"Coal\": \"Coal (MW)\",\n",
    "    \"Hydro\": \"Hydro (MW)\",\n",
    "    \"Natural gas\": \"Natural Gas (MW)\",\n",
    "    \"Hydro\": \"Hydro (MW)\",\n",
    "    \"Nuclear\": \"Nuclear (MW)\",\n",
    "    \"Other\": \"Other (MW)\",\n",
    "    \"Petroleum\": \"Petroleum (MW)\",\n",
    "    \"Solar\": \"Solar (MW)\",\n",
    "    \"Wind\": \"Wind (MW)\"\n",
    "}\n",
    ")\n",
    "df.to_csv('generation.csv', index=False)"
   ]
  },
  {
   "cell_type": "code",
   "execution_count": 101,
   "id": "947ebe95",
   "metadata": {},
   "outputs": [],
   "source": [
    "# Capacity\n",
    "df = pd.read_csv('raw/capacity.csv')\n",
    "df = df.groupby([\"period\",\"energy-source-desc\",\"balancing_authority_code\"]).agg({\"nameplate-capacity-mw\":\"sum\"})\n",
    "df.reset_index().rename(columns={\n",
    "    \"period\":\"datetime\",\n",
    "    \"nameplate-capacity-mw\":\"Capacity (MW)\",\n",
    "    \"energy-source-desc\":\"Fuel Type\"\n",
    "}).to_csv('capacity.csv', index=False)"
   ]
  },
  {
   "cell_type": "code",
   "execution_count": 102,
   "id": "9d57c71b",
   "metadata": {},
   "outputs": [],
   "source": [
    "# Imports/Exports\n",
    "df = pd.read_csv('raw/imports_exports.csv')\n",
    "df['datetime'] = pd.to_datetime(df['period']).dt.strftime(\"%Y-%m-%d %H:%M\")\n",
    "df = df.groupby(['fromba','datetime']).agg({'value': 'sum'})\n",
    "df['import (MW)'] = df.value.apply(lambda x: min(x,0))\n",
    "df['export (MW)'] = df.value.apply(lambda x: max(x,0))\n",
    "df.drop(['value'], inplace=True, axis=1)\n",
    "df.reset_index().rename(columns={\"fromba\":\"Balancing Region\"}).to_csv('imports_exports.csv', index=False)"
   ]
  },
  {
   "cell_type": "code",
   "execution_count": 138,
   "id": "d3f62312",
   "metadata": {},
   "outputs": [],
   "source": [
    "# Load Forecast\n",
    "df = pd.read_csv('raw/load_forecast.csv')\n",
    "df = df[df['type'].isin(['D','DF'])]\n",
    "df['datetime'] = pd.to_datetime(df['period']).dt.strftime(\"%Y-%m-%d %H:%M\")\n",
    "df.drop(['period'], inplace=True, axis=1)\n",
    "df = pd.pivot_table(\n",
    "    df,\n",
    "    values=\"value\",\n",
    "    index=[\"respondent\", \"datetime\"],\n",
    "    columns=\"type-name\"\n",
    ").reset_index()\n",
    "df.rename(columns={\n",
    "    \"Day-ahead demand forecast\": \"Demand Forecast (MW)\",\n",
    "    \"Demand\": \"Actual Total Load (MW)\",\n",
    "    \"respondent\": \"Balancing Region\",\n",
    "}).to_csv('load_forecast.csv',index=False)"
   ]
  },
  {
   "cell_type": "code",
   "execution_count": null,
   "id": "da7d3e05",
   "metadata": {},
   "outputs": [],
   "source": []
  }
 ],
 "metadata": {
  "kernelspec": {
   "display_name": "Python 3 (ipykernel)",
   "language": "python",
   "name": "python3"
  },
  "language_info": {
   "codemirror_mode": {
    "name": "ipython",
    "version": 3
   },
   "file_extension": ".py",
   "mimetype": "text/x-python",
   "name": "python",
   "nbconvert_exporter": "python",
   "pygments_lexer": "ipython3",
   "version": "3.10.4"
  }
 },
 "nbformat": 4,
 "nbformat_minor": 5
}
